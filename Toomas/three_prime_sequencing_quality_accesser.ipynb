{
 "metadata": {
  "name": "",
  "signature": "sha256:8aefef915a93b1201457c9b31fb8ae340d2bdf456a37a1b4c5651fc3eb3c52d4"
 },
 "nbformat": 3,
 "nbformat_minor": 0,
 "worksheets": [
  {
   "cells": [
    {
     "cell_type": "code",
     "collapsed": false,
     "input": [
      "from Bio import SeqIO\n",
      "import sys\n",
      "\n",
      "total_reads = 0\n",
      "count_bad_qual = 0\n",
      "count_bad_qual_and_polyA = 0\n",
      "count_polyA = 0\n",
      "count_ok_read= 0\n",
      "\n",
      "for rec in SeqIO.parse(\"/media/toomas/DATA1/aligmet bwa various/MazF2h cutting/MazF3prime_PNK-.fastq\", \"fastq\"):\n",
      "    \n",
      "    quality =(rec.letter_annotations[\"phred_quality\"])\n",
      "    \n",
      "    count_q = 0\n",
      "    count_A = 0\n",
      "    total_reads += 1\n",
      "    \n",
      "    for nucleotide_score in quality[::-1]:\n",
      "        if nucleotide_score <= 2:\n",
      "            count_q += 1\n",
      "        else:\n",
      "            break\n",
      "    if count_q == 0:\n",
      "        for nucleotide in rec.seq[::-1]: #Iterates backwards over nucleotides in read.\n",
      "            if nucleotide == \"A\": #counts the number of \"A\"-s at the 3 prime end.\n",
      "                count_A += 1\n",
      "            else:\n",
      "                break\n",
      "        if count_A == 0: #assures that the read wont be deleted if no A-s are at the end by adding + 1 to ok read count.\n",
      "            count_ok_read += 1\n",
      "        else:\n",
      "            count_polyA += 1\n",
      "    elif count_q > 0:\n",
      "        count_bad_qual += 1\n",
      "        rec = rec[:-count_q]\n",
      "        for nucleotide in rec.seq[::-1]: #Iterates backwards over nucleotides in read.\n",
      "            if nucleotide == \"A\": #counts the number of \"A\"-s at the 3 prime end.\n",
      "                count_A += 1\n",
      "            else:\n",
      "                break\n",
      "        if count_A == 0: \n",
      "            pass\n",
      "        elif count_A > 0:\n",
      "            count_bad_qual_and_polyA += 1\n",
      "\n",
      "print \"The number of total reads: {}\".format(total_reads)\n",
      "print \"The number of reads with bad quality at 3' end: {0} ({1}% of total reads)\".format(count_bad_qual, (count_bad_qual*100/total_reads))\n",
      "print \"The number of reads with bad quality at 3' end followed by (probable) polyA tail: {0} ({1}% of total reads)\".format(count_bad_qual_and_polyA,(count_bad_qual_and_polyA*100/total_reads))\n",
      "print \"The number of reads with (probable) polyA tail: {0} ({1}% of total reads)\".format(count_polyA,(count_polyA*100/total_reads))\n",
      "print \"The number of ok reads: {0} ({1}% of total reads)\".format(count_ok_read, (count_ok_read*100/total_reads))\n",
      "\n",
      "                #rec = rec[:-count] #removes nucleotides from 3 prime end. if -count is 0 it deletes the read so it has to be atlest 1.                \n",
      "        #SeqIO.write(rec, output, \"fastq\")\n",
      "\n",
      "        \n"
     ],
     "language": "python",
     "metadata": {},
     "outputs": [
      {
       "output_type": "stream",
       "stream": "stdout",
       "text": [
        "The number of total reads: 3136225\n",
        "The number of reads with bad quality at 3' end: 915485 (29% of total reads)\n",
        "The number of reads with bad quality at 3' end followed by (probable) polyA tail: 326521 (10% of total reads)\n",
        "The number of reads with (probable) polyA tail: 1153672 (36% of total reads)\n",
        "The number of ok reads: 1067068 (34% of total reads)\n"
       ]
      }
     ],
     "prompt_number": 4
    },
    {
     "cell_type": "code",
     "collapsed": false,
     "input": [],
     "language": "python",
     "metadata": {},
     "outputs": [
      {
       "output_type": "stream",
       "stream": "stdout",
       "text": [
        "99\n"
       ]
      }
     ],
     "prompt_number": 5
    }
   ],
   "metadata": {}
  }
 ]
}