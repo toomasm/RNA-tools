{
 "metadata": {
  "name": "",
  "signature": "sha256:015446123ae465047a04cdc3068438242cea98ccdc465465323745685b775842"
 },
 "nbformat": 3,
 "nbformat_minor": 0,
 "worksheets": [
  {
   "cells": [
    {
     "cell_type": "code",
     "collapsed": false,
     "input": [
      "from Bio import SeqIO\n",
      "\n",
      "for fasta in SeqIO.parse(raw_input(\"Enter the path for your template sequence here: \"), \"fasta\"):\n",
      "        x = fasta.seq.count(\"AAAAAA\")\n",
      "        \n",
      "print x\n"
     ],
     "language": "python",
     "metadata": {},
     "outputs": [
      {
       "name": "stdout",
       "output_type": "stream",
       "stream": "stdout",
       "text": [
        "Enter the path for your template sequence here: /home/toomas/git/RNA-tools/Toomas/genbank_mg1655.fasta\n"
       ]
      },
      {
       "output_type": "stream",
       "stream": "stdout",
       "text": [
        "2479\n"
       ]
      }
     ],
     "prompt_number": 5
    },
    {
     "cell_type": "code",
     "collapsed": false,
     "input": [],
     "language": "python",
     "metadata": {},
     "outputs": []
    }
   ],
   "metadata": {}
  }
 ]
}