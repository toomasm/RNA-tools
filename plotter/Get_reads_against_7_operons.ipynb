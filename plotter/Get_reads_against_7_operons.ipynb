{
 "metadata": {
  "name": "",
  "signature": "sha256:544deb32b25da1735a9940e04532f4a7e4ed858ab9dcf851a421aa237cdc68ae"
 },
 "nbformat": 3,
 "nbformat_minor": 0,
 "worksheets": [
  {
   "cells": [
    {
     "cell_type": "code",
     "collapsed": false,
     "input": [
      "import pandas as pd\n",
      "import os\n",
      "\n",
      "df1 = '/media/toomas/DATA1/aligment_bowtie/MazF_2h/aligned/MazF2h_PNK_index.csv'\n",
      "df2 = '/media/toomas/DATA1/aligment_bowtie/MazF_2h/aligned/MazF2h_none_index.csv'\n",
      "\n",
      "def pandas_processer(index):\n",
      "\n",
      "    abspath = os.path.abspath(index)\n",
      "    dir_name = os.path.dirname(abspath)\n",
      "    os.chdir(dir_name)\n",
      "\n",
      "    #Get root filename for CSV file.\n",
      "    base_name = os.path.basename(index)\n",
      "    #Get root and extention of the reference genome fasta file.\n",
      "    root_ext = os.path.splitext(base_name)\n",
      "    #Get the base of input file\n",
      "    genome_index = root_ext[0]\n",
      "    #Get the file extention input file\n",
      "    name = genome_index + \"_7operons.csv\"\n",
      "    #Creates dataframe from csv\n",
      "    df = pd.read_csv(index)\n",
      "    \n",
      "    #Fills empty dataspaces with 0-s\n",
      "    df = df.fillna(0)\n",
      "\n",
      "    #Create a new column in dataframe, which contains the number of rRNA operons which read maps to. \n",
      "    df['gene_count'] = df['rrsA'] + df['rrsB'] + df['rrsC'] + df['rrsD'] + df['rrsE'] + df['rrsG'] + df['rrsH']\n",
      "    #Creates a new fataframe which contains only reads which map to only a certain numbero f rRNA operons\n",
      "    #selected_df = df.query('gene_count == 7')\n",
      "    for k in ['rrsA', 'rrsB', 'rrsC', 'rrsD', 'rrsE', 'rrsG', 'rrsH']:\n",
      "        del df[k]\n",
      "        \n",
      "    selected_df = df[df['gene_count'] == 7]\n",
      "    #Save the new dataframe\n",
      "    selected_df.to_csv(name,index=True,header=True)\n",
      "\n",
      "\n",
      "pandas_processer(df1)\n"
     ],
     "language": "python",
     "metadata": {},
     "outputs": [],
     "prompt_number": 2
    },
    {
     "cell_type": "code",
     "collapsed": false,
     "input": [],
     "language": "python",
     "metadata": {},
     "outputs": []
    }
   ],
   "metadata": {}
  }
 ]
}